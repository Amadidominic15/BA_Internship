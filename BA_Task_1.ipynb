{
 "cells": [
  {
   "cell_type": "markdown",
   "metadata": {},
   "source": [
    "# Task 1\n",
    "\n",
    "---\n",
    "\n",
    "## Web scraping and analysis\n",
    "\n",
    "This Jupyter notebook includes some code to get you started with web scraping. We will use a package called `BeautifulSoup` to collect the data from the web. Once you've collected your data and saved it into a local `.csv` file you should start with your analysis.\n",
    "\n",
    "### Scraping data from Skytrax\n",
    "\n",
    "If you visit [https://www.airlinequality.com] you can see that there is a lot of data there. For this task, we are only interested in reviews related to British Airways and the Airline itself.\n",
    "\n",
    "If you navigate to this link: [https://www.airlinequality.com/airline-reviews/british-airways] you will see this data. Now, we can use `Python` and `BeautifulSoup` to collect all the links to the reviews and then to collect the text data on each of the individual review links."
   ]
  },
  {
   "cell_type": "code",
   "execution_count": 1,
   "metadata": {},
   "outputs": [],
   "source": [
    "import os\n",
    "import requests\n",
    "from bs4 import BeautifulSoup\n",
    "import pandas as pd"
   ]
  },
  {
   "cell_type": "code",
   "execution_count": 2,
   "metadata": {},
   "outputs": [
    {
     "name": "stdout",
     "output_type": "stream",
     "text": [
      "Scraping page 1\n",
      "   ---> 100 total reviews\n",
      "Scraping page 2\n",
      "   ---> 200 total reviews\n",
      "Scraping page 3\n",
      "   ---> 300 total reviews\n",
      "Scraping page 4\n",
      "   ---> 400 total reviews\n",
      "Scraping page 5\n",
      "   ---> 500 total reviews\n",
      "Scraping page 6\n",
      "   ---> 600 total reviews\n",
      "Scraping page 7\n",
      "   ---> 700 total reviews\n",
      "Scraping page 8\n",
      "   ---> 800 total reviews\n",
      "Scraping page 9\n",
      "   ---> 900 total reviews\n",
      "Scraping page 10\n",
      "   ---> 1000 total reviews\n"
     ]
    }
   ],
   "source": [
    "base_url = \"https://www.airlinequality.com/airline-reviews/british-airways\"\n",
    "pages = 10\n",
    "page_size = 100\n",
    "\n",
    "reviews = []\n",
    "\n",
    "# for i in range(1, pages + 1):\n",
    "for i in range(1, pages + 1):\n",
    "\n",
    "    print(f\"Scraping page {i}\")\n",
    "\n",
    "    # Create URL to collect links from paginated data\n",
    "    url = f\"{base_url}/page/{i}/?sortby=post_date%3ADesc&pagesize={page_size}\"\n",
    "\n",
    "    # Collect HTML data from this page\n",
    "    response = requests.get(url)\n",
    "\n",
    "    # Parse content\n",
    "    content = response.content\n",
    "    parsed_content = BeautifulSoup(content, 'html.parser')\n",
    "    for para in parsed_content.find_all(\"div\", {\"class\": \"text_content\"}):\n",
    "        reviews.append(para.get_text())\n",
    "    \n",
    "    print(f\"   ---> {len(reviews)} total reviews\")"
   ]
  },
  {
   "cell_type": "code",
   "execution_count": 3,
   "metadata": {},
   "outputs": [
    {
     "data": {
      "text/html": [
       "<div>\n",
       "<style scoped>\n",
       "    .dataframe tbody tr th:only-of-type {\n",
       "        vertical-align: middle;\n",
       "    }\n",
       "\n",
       "    .dataframe tbody tr th {\n",
       "        vertical-align: top;\n",
       "    }\n",
       "\n",
       "    .dataframe thead th {\n",
       "        text-align: right;\n",
       "    }\n",
       "</style>\n",
       "<table border=\"1\" class=\"dataframe\">\n",
       "  <thead>\n",
       "    <tr style=\"text-align: right;\">\n",
       "      <th></th>\n",
       "      <th>reviews</th>\n",
       "    </tr>\n",
       "  </thead>\n",
       "  <tbody>\n",
       "    <tr>\n",
       "      <th>0</th>\n",
       "      <td>✅ Trip Verified |  LHR - SFO, LAS - LGW August...</td>\n",
       "    </tr>\n",
       "    <tr>\n",
       "      <th>1</th>\n",
       "      <td>Not Verified |   I flew from Malaga via LHR to...</td>\n",
       "    </tr>\n",
       "    <tr>\n",
       "      <th>2</th>\n",
       "      <td>✅ Trip Verified |  Milan to Miami return via L...</td>\n",
       "    </tr>\n",
       "    <tr>\n",
       "      <th>3</th>\n",
       "      <td>✅ Trip Verified |  BA created a new low-cost s...</td>\n",
       "    </tr>\n",
       "    <tr>\n",
       "      <th>4</th>\n",
       "      <td>✅ Trip Verified |   I flew with British Airway...</td>\n",
       "    </tr>\n",
       "  </tbody>\n",
       "</table>\n",
       "</div>"
      ],
      "text/plain": [
       "                                             reviews\n",
       "0  ✅ Trip Verified |  LHR - SFO, LAS - LGW August...\n",
       "1  Not Verified |   I flew from Malaga via LHR to...\n",
       "2  ✅ Trip Verified |  Milan to Miami return via L...\n",
       "3  ✅ Trip Verified |  BA created a new low-cost s...\n",
       "4  ✅ Trip Verified |   I flew with British Airway..."
      ]
     },
     "execution_count": 3,
     "metadata": {},
     "output_type": "execute_result"
    }
   ],
   "source": [
    "df = pd.DataFrame()\n",
    "df[\"reviews\"] = reviews\n",
    "df.head()"
   ]
  },
  {
   "cell_type": "code",
   "execution_count": 4,
   "metadata": {},
   "outputs": [],
   "source": [
    "# create folder called data\n",
    "if not os.path.exists(os.path.join(os.getcwd(), \"data\")):\n",
    "    os.mkdir(\"data\")\n",
    "\n",
    "df.to_csv(\"data/BA_reviews.csv\")"
   ]
  },
  {
   "cell_type": "markdown",
   "metadata": {},
   "source": [
    "Congratulations! Now you have your dataset for this task! The loops above collected 1000 reviews by iterating through the paginated pages on the website. However, if you want to collect more data, try increasing the number of pages!\n",
    "\n",
    " The next thing that you should do is clean this data to remove any unnecessary text from each of the rows. For example, \"✅ Trip Verified\" can be removed from each row if it exists, as it's not relevant to what we want to investigate."
   ]
  },
  {
   "cell_type": "markdown",
   "metadata": {},
   "source": [
    "## Analysing Sentiments with Rule-Based Approach\n",
    "\n",
    "This is the traditional way to do sentiment analysis based on a set of manually-created rules. This approach includes NLP techniques like lexicons (lists of words), stemming, tokenization and parsing.\n",
    "\n",
    "Widely used lexicon-based approaches are TextBlob, VADER, SentiWordNet. We will be using VADER approach for this notebook."
   ]
  },
  {
   "cell_type": "markdown",
   "metadata": {},
   "source": [
    "### Step 1: Data Cleaning\n",
    "\n",
    "We will clean the data to remove the \"<b>✅ Trip Verified</b>\" text, then convert the text into lower-case, and remove all\n",
    "the punctuation marks from the data. This is essential as punctuation marks do not add any meaningful value for the analysis. "
   ]
  },
  {
   "cell_type": "code",
   "execution_count": 5,
   "metadata": {},
   "outputs": [
    {
     "data": {
      "text/html": [
       "<div>\n",
       "<style scoped>\n",
       "    .dataframe tbody tr th:only-of-type {\n",
       "        vertical-align: middle;\n",
       "    }\n",
       "\n",
       "    .dataframe tbody tr th {\n",
       "        vertical-align: top;\n",
       "    }\n",
       "\n",
       "    .dataframe thead th {\n",
       "        text-align: right;\n",
       "    }\n",
       "</style>\n",
       "<table border=\"1\" class=\"dataframe\">\n",
       "  <thead>\n",
       "    <tr style=\"text-align: right;\">\n",
       "      <th></th>\n",
       "      <th>reviews</th>\n",
       "    </tr>\n",
       "  </thead>\n",
       "  <tbody>\n",
       "    <tr>\n",
       "      <th>0</th>\n",
       "      <td>LHR - SFO, LAS - LGW August 2023 in Club Wor...</td>\n",
       "    </tr>\n",
       "    <tr>\n",
       "      <th>1</th>\n",
       "      <td>I flew from Malaga via LHR to Boston on the...</td>\n",
       "    </tr>\n",
       "    <tr>\n",
       "      <th>2</th>\n",
       "      <td>Milan to Miami return via London. Worst busi...</td>\n",
       "    </tr>\n",
       "    <tr>\n",
       "      <th>3</th>\n",
       "      <td>BA created a new low-cost subsidiary in BA E...</td>\n",
       "    </tr>\n",
       "    <tr>\n",
       "      <th>4</th>\n",
       "      <td>I flew with British Airways from Heathrow t...</td>\n",
       "    </tr>\n",
       "  </tbody>\n",
       "</table>\n",
       "</div>"
      ],
      "text/plain": [
       "                                             reviews\n",
       "0    LHR - SFO, LAS - LGW August 2023 in Club Wor...\n",
       "1     I flew from Malaga via LHR to Boston on the...\n",
       "2    Milan to Miami return via London. Worst busi...\n",
       "3    BA created a new low-cost subsidiary in BA E...\n",
       "4     I flew with British Airways from Heathrow t..."
      ]
     },
     "execution_count": 5,
     "metadata": {},
     "output_type": "execute_result"
    }
   ],
   "source": [
    "df[\"reviews\"] = df[\"reviews\"].str.split(\"|\", expand=True)[1]\n",
    "df.head()"
   ]
  },
  {
   "cell_type": "code",
   "execution_count": 6,
   "metadata": {},
   "outputs": [
    {
     "data": {
      "text/html": [
       "<div>\n",
       "<style scoped>\n",
       "    .dataframe tbody tr th:only-of-type {\n",
       "        vertical-align: middle;\n",
       "    }\n",
       "\n",
       "    .dataframe tbody tr th {\n",
       "        vertical-align: top;\n",
       "    }\n",
       "\n",
       "    .dataframe thead th {\n",
       "        text-align: right;\n",
       "    }\n",
       "</style>\n",
       "<table border=\"1\" class=\"dataframe\">\n",
       "  <thead>\n",
       "    <tr style=\"text-align: right;\">\n",
       "      <th></th>\n",
       "      <th>reviews</th>\n",
       "      <th>cleaned_reviews</th>\n",
       "    </tr>\n",
       "  </thead>\n",
       "  <tbody>\n",
       "    <tr>\n",
       "      <th>0</th>\n",
       "      <td>LHR - SFO, LAS - LGW August 2023 in Club Wor...</td>\n",
       "      <td>lhr  sfo las  lgw august 2023 in club world ...</td>\n",
       "    </tr>\n",
       "    <tr>\n",
       "      <th>1</th>\n",
       "      <td>I flew from Malaga via LHR to Boston on the...</td>\n",
       "      <td>i flew from malaga via lhr to boston on the...</td>\n",
       "    </tr>\n",
       "    <tr>\n",
       "      <th>2</th>\n",
       "      <td>Milan to Miami return via London. Worst busi...</td>\n",
       "      <td>milan to miami return via london worst busin...</td>\n",
       "    </tr>\n",
       "    <tr>\n",
       "      <th>3</th>\n",
       "      <td>BA created a new low-cost subsidiary in BA E...</td>\n",
       "      <td>ba created a new lowcost subsidiary in ba eu...</td>\n",
       "    </tr>\n",
       "    <tr>\n",
       "      <th>4</th>\n",
       "      <td>I flew with British Airways from Heathrow t...</td>\n",
       "      <td>i flew with british airways from heathrow t...</td>\n",
       "    </tr>\n",
       "  </tbody>\n",
       "</table>\n",
       "</div>"
      ],
      "text/plain": [
       "                                             reviews  \\\n",
       "0    LHR - SFO, LAS - LGW August 2023 in Club Wor...   \n",
       "1     I flew from Malaga via LHR to Boston on the...   \n",
       "2    Milan to Miami return via London. Worst busi...   \n",
       "3    BA created a new low-cost subsidiary in BA E...   \n",
       "4     I flew with British Airways from Heathrow t...   \n",
       "\n",
       "                                     cleaned_reviews  \n",
       "0    lhr  sfo las  lgw august 2023 in club world ...  \n",
       "1     i flew from malaga via lhr to boston on the...  \n",
       "2    milan to miami return via london worst busin...  \n",
       "3    ba created a new lowcost subsidiary in ba eu...  \n",
       "4     i flew with british airways from heathrow t...  "
      ]
     },
     "execution_count": 6,
     "metadata": {},
     "output_type": "execute_result"
    }
   ],
   "source": [
    "import string\n",
    "\n",
    "def case_and_punctuation_handling(text):\n",
    "    lower_case_text = text.lower()\n",
    "    cleaned_text = lower_case_text.translate(str.maketrans(\"\", \"\", string.punctuation))\n",
    "    return cleaned_text\n",
    "\n",
    "df[\"cleaned_reviews\"] = df[\"reviews\"].apply(case_and_punctuation_handling)\n",
    "df.head()"
   ]
  },
  {
   "cell_type": "markdown",
   "metadata": {},
   "source": [
    "### Step 2: Tokenization, Stopwords removal, and POS-tagging\n",
    "\n",
    "1) Tokenization breaks text(or sentences, in our case) into smaller parts(or individual words) for easier machine analysis,\n",
    "helping machines understand human language. Tokenization, in the realm of Natural Language Processing (NLP) and machine \n",
    "learning, refers to the process of converting a sequence of text into smaller parts, known as tokens. So here, \n",
    "we will tokenize our text data to convert it into smaller tokens(or words).\n",
    "\n",
    "2) Stopwords are a set of commonly used words in a language. Examples of stop words in English are \"a\", \"the\", \"is\", \"are\",\n",
    "etc. Stopwords are commonly used in Natural Language Processing (NLP) to eliminate words that are so widely used that carry\n",
    "very little useful information. We will remove such stopwords from our data going forward.\n",
    "\n",
    "3) Part-of-speech (POS) tagging is fundamental in natural language processing (NLP) and it involves labelling words in a \n",
    "sentence with their corresponding POS tags having form (word, tag). POS tags indicate the grammatical category of a word, \n",
    "such as noun, verb, adjective, adverb, etc. The goal of POS tagging is to determine a sentence’s syntactic structure and \n",
    "identify each word’s role in the sentence. POS tagging is essential to preserve the context of the word and is essential \n",
    "for Lemmatization."
   ]
  },
  {
   "cell_type": "code",
   "execution_count": 7,
   "metadata": {},
   "outputs": [
    {
     "name": "stdout",
     "output_type": "stream",
     "text": [
      "showing info https://raw.githubusercontent.com/nltk/nltk_data/gh-pages/index.xml\n"
     ]
    },
    {
     "data": {
      "text/plain": [
       "True"
      ]
     },
     "execution_count": 7,
     "metadata": {},
     "output_type": "execute_result"
    }
   ],
   "source": [
    "import nltk\n",
    "\n",
    "# Downloading all nltk packages to avoid compatibility issues.\n",
    "nltk.download()"
   ]
  },
  {
   "cell_type": "code",
   "execution_count": 9,
   "metadata": {},
   "outputs": [],
   "source": [
    "from nltk.tokenize import word_tokenize\n",
    "from nltk import pos_tag\n",
    "from nltk.corpus import stopwords, wordnet"
   ]
  },
  {
   "cell_type": "code",
   "execution_count": 10,
   "metadata": {},
   "outputs": [
    {
     "data": {
      "text/html": [
       "<div>\n",
       "<style scoped>\n",
       "    .dataframe tbody tr th:only-of-type {\n",
       "        vertical-align: middle;\n",
       "    }\n",
       "\n",
       "    .dataframe tbody tr th {\n",
       "        vertical-align: top;\n",
       "    }\n",
       "\n",
       "    .dataframe thead th {\n",
       "        text-align: right;\n",
       "    }\n",
       "</style>\n",
       "<table border=\"1\" class=\"dataframe\">\n",
       "  <thead>\n",
       "    <tr style=\"text-align: right;\">\n",
       "      <th></th>\n",
       "      <th>reviews</th>\n",
       "      <th>cleaned_reviews</th>\n",
       "      <th>POS_tagged_reviews</th>\n",
       "    </tr>\n",
       "  </thead>\n",
       "  <tbody>\n",
       "    <tr>\n",
       "      <th>0</th>\n",
       "      <td>LHR - SFO, LAS - LGW August 2023 in Club Wor...</td>\n",
       "      <td>lhr  sfo las  lgw august 2023 in club world ...</td>\n",
       "      <td>[(lhr, n), (sfo, n), (las, n), (lgw, n), (augu...</td>\n",
       "    </tr>\n",
       "    <tr>\n",
       "      <th>1</th>\n",
       "      <td>I flew from Malaga via LHR to Boston on the...</td>\n",
       "      <td>i flew from malaga via lhr to boston on the...</td>\n",
       "      <td>[(flew, v), (malaga, n), (via, None), (lhr, n)...</td>\n",
       "    </tr>\n",
       "    <tr>\n",
       "      <th>2</th>\n",
       "      <td>Milan to Miami return via London. Worst busi...</td>\n",
       "      <td>milan to miami return via london worst busin...</td>\n",
       "      <td>[(milan, n), (miami, v), (return, n), (via, No...</td>\n",
       "    </tr>\n",
       "    <tr>\n",
       "      <th>3</th>\n",
       "      <td>BA created a new low-cost subsidiary in BA E...</td>\n",
       "      <td>ba created a new lowcost subsidiary in ba eu...</td>\n",
       "      <td>[(ba, n), (created, v), (new, a), (lowcost, n)...</td>\n",
       "    </tr>\n",
       "    <tr>\n",
       "      <th>4</th>\n",
       "      <td>I flew with British Airways from Heathrow t...</td>\n",
       "      <td>i flew with british airways from heathrow t...</td>\n",
       "      <td>[(flew, v), (british, a), (airways, n), (heath...</td>\n",
       "    </tr>\n",
       "  </tbody>\n",
       "</table>\n",
       "</div>"
      ],
      "text/plain": [
       "                                             reviews  \\\n",
       "0    LHR - SFO, LAS - LGW August 2023 in Club Wor...   \n",
       "1     I flew from Malaga via LHR to Boston on the...   \n",
       "2    Milan to Miami return via London. Worst busi...   \n",
       "3    BA created a new low-cost subsidiary in BA E...   \n",
       "4     I flew with British Airways from Heathrow t...   \n",
       "\n",
       "                                     cleaned_reviews  \\\n",
       "0    lhr  sfo las  lgw august 2023 in club world ...   \n",
       "1     i flew from malaga via lhr to boston on the...   \n",
       "2    milan to miami return via london worst busin...   \n",
       "3    ba created a new lowcost subsidiary in ba eu...   \n",
       "4     i flew with british airways from heathrow t...   \n",
       "\n",
       "                                  POS_tagged_reviews  \n",
       "0  [(lhr, n), (sfo, n), (las, n), (lgw, n), (augu...  \n",
       "1  [(flew, v), (malaga, n), (via, None), (lhr, n)...  \n",
       "2  [(milan, n), (miami, v), (return, n), (via, No...  \n",
       "3  [(ba, n), (created, v), (new, a), (lowcost, n)...  \n",
       "4  [(flew, v), (british, a), (airways, n), (heath...  "
      ]
     },
     "execution_count": 10,
     "metadata": {},
     "output_type": "execute_result"
    }
   ],
   "source": [
    "# POS tagging dictionary.\n",
    "pos_dict = {\"J\":wordnet.ADJ, \"V\":wordnet.VERB, \"N\":wordnet.NOUN, \"R\":wordnet.ADV}\n",
    "\n",
    "def handle_tokenization_stopwords_postags(text):\n",
    "    # Tokenization.\n",
    "    tokenized_text = word_tokenize(text)\n",
    "    # POS-tagging.\n",
    "    tags = pos_tag(tokenized_text)\n",
    "    new_text_list = []\n",
    "    for word, tag in tags:\n",
    "        # Stopword removal.\n",
    "        if word not in stopwords.words(\"english\"):\n",
    "          new_text_list.append(tuple([word, pos_dict.get(tag[0])]))\n",
    "    return new_text_list \n",
    "\n",
    "df[\"POS_tagged_reviews\"] = df[\"cleaned_reviews\"].apply(handle_tokenization_stopwords_postags)\n",
    "df.head()"
   ]
  },
  {
   "cell_type": "markdown",
   "metadata": {},
   "source": [
    "### Step 3: Lemmatization\n",
    "\n",
    "Lemmatization is the process of grouping together the different inflected forms of a word so they can be analyzed as a \n",
    "single item, generally known as stem. A stem is responsible for the word's lexical meaning. The two popular techniques of\n",
    "obtaining the stem words are Stemming and Lemmatization. \n",
    "   \n",
    "We will use the Lemmatization process here as Stemming often gives some meaningless root words as it simply chops off\n",
    "some characters in the end, whereas, Lemmatization gives meaningful root words. It is important to note that,\n",
    "lemmatization requires POS tagging of the words, which we have already accomplished in the previous step."
   ]
  },
  {
   "cell_type": "code",
   "execution_count": 13,
   "metadata": {},
   "outputs": [
    {
     "data": {
      "text/html": [
       "<div>\n",
       "<style scoped>\n",
       "    .dataframe tbody tr th:only-of-type {\n",
       "        vertical-align: middle;\n",
       "    }\n",
       "\n",
       "    .dataframe tbody tr th {\n",
       "        vertical-align: top;\n",
       "    }\n",
       "\n",
       "    .dataframe thead th {\n",
       "        text-align: right;\n",
       "    }\n",
       "</style>\n",
       "<table border=\"1\" class=\"dataframe\">\n",
       "  <thead>\n",
       "    <tr style=\"text-align: right;\">\n",
       "      <th></th>\n",
       "      <th>reviews</th>\n",
       "      <th>cleaned_reviews</th>\n",
       "      <th>POS_tagged_reviews</th>\n",
       "      <th>lemmatized_reviews</th>\n",
       "    </tr>\n",
       "  </thead>\n",
       "  <tbody>\n",
       "    <tr>\n",
       "      <th>0</th>\n",
       "      <td>LHR - SFO, LAS - LGW August 2023 in Club Wor...</td>\n",
       "      <td>lhr  sfo las  lgw august 2023 in club world ...</td>\n",
       "      <td>[(lhr, n), (sfo, n), (las, n), (lgw, n), (augu...</td>\n",
       "      <td>lhr sfo la lgw august 2023 club world shame ...</td>\n",
       "    </tr>\n",
       "    <tr>\n",
       "      <th>1</th>\n",
       "      <td>I flew from Malaga via LHR to Boston on the...</td>\n",
       "      <td>i flew from malaga via lhr to boston on the...</td>\n",
       "      <td>[(flew, v), (malaga, n), (via, None), (lhr, n)...</td>\n",
       "      <td>fly malaga via lhr boston 4th may 2024 arriv...</td>\n",
       "    </tr>\n",
       "    <tr>\n",
       "      <th>2</th>\n",
       "      <td>Milan to Miami return via London. Worst busi...</td>\n",
       "      <td>milan to miami return via london worst busin...</td>\n",
       "      <td>[(milan, n), (miami, v), (return, n), (via, No...</td>\n",
       "      <td>milan miami return via london bad business c...</td>\n",
       "    </tr>\n",
       "    <tr>\n",
       "      <th>3</th>\n",
       "      <td>BA created a new low-cost subsidiary in BA E...</td>\n",
       "      <td>ba created a new lowcost subsidiary in ba eu...</td>\n",
       "      <td>[(ba, n), (created, v), (new, a), (lowcost, n)...</td>\n",
       "      <td>ba create new lowcost subsidiary ba euroflye...</td>\n",
       "    </tr>\n",
       "    <tr>\n",
       "      <th>4</th>\n",
       "      <td>I flew with British Airways from Heathrow t...</td>\n",
       "      <td>i flew with british airways from heathrow t...</td>\n",
       "      <td>[(flew, v), (british, a), (airways, n), (heath...</td>\n",
       "      <td>fly british airway heathrow hannover althoug...</td>\n",
       "    </tr>\n",
       "  </tbody>\n",
       "</table>\n",
       "</div>"
      ],
      "text/plain": [
       "                                             reviews  \\\n",
       "0    LHR - SFO, LAS - LGW August 2023 in Club Wor...   \n",
       "1     I flew from Malaga via LHR to Boston on the...   \n",
       "2    Milan to Miami return via London. Worst busi...   \n",
       "3    BA created a new low-cost subsidiary in BA E...   \n",
       "4     I flew with British Airways from Heathrow t...   \n",
       "\n",
       "                                     cleaned_reviews  \\\n",
       "0    lhr  sfo las  lgw august 2023 in club world ...   \n",
       "1     i flew from malaga via lhr to boston on the...   \n",
       "2    milan to miami return via london worst busin...   \n",
       "3    ba created a new lowcost subsidiary in ba eu...   \n",
       "4     i flew with british airways from heathrow t...   \n",
       "\n",
       "                                  POS_tagged_reviews  \\\n",
       "0  [(lhr, n), (sfo, n), (las, n), (lgw, n), (augu...   \n",
       "1  [(flew, v), (malaga, n), (via, None), (lhr, n)...   \n",
       "2  [(milan, n), (miami, v), (return, n), (via, No...   \n",
       "3  [(ba, n), (created, v), (new, a), (lowcost, n)...   \n",
       "4  [(flew, v), (british, a), (airways, n), (heath...   \n",
       "\n",
       "                                  lemmatized_reviews  \n",
       "0    lhr sfo la lgw august 2023 club world shame ...  \n",
       "1    fly malaga via lhr boston 4th may 2024 arriv...  \n",
       "2    milan miami return via london bad business c...  \n",
       "3    ba create new lowcost subsidiary ba euroflye...  \n",
       "4    fly british airway heathrow hannover althoug...  "
      ]
     },
     "execution_count": 13,
     "metadata": {},
     "output_type": "execute_result"
    }
   ],
   "source": [
    "# Obtaining stem-words with Lemmatization.\n",
    "from nltk.stem import WordNetLemmatizer\n",
    "wordnet_lemmatizer = WordNetLemmatizer()\n",
    "\n",
    "def text_lemmatization(pos_data):\n",
    "    lemma_rew = \" \"\n",
    "    for word, pos in pos_data:\n",
    "     if not pos:\n",
    "        lemma = word\n",
    "        lemma_rew = lemma_rew + \" \" + lemma\n",
    "     else:\n",
    "        lemma = wordnet_lemmatizer.lemmatize(word, pos=pos)\n",
    "        lemma_rew = lemma_rew + \" \" + lemma\n",
    "    return lemma_rew\n",
    "\n",
    "df[\"lemmatized_reviews\"] = df[\"POS_tagged_reviews\"].apply(text_lemmatization)\n",
    "df.head()"
   ]
  },
  {
   "cell_type": "markdown",
   "metadata": {},
   "source": [
    "### Step 4: Sentiment Analysis (VADER)\n",
    "  \n",
    "VADER (Valence Aware Dictionary and sEntiment Reasoner) is a rule-based sentiment analyzer that has been trained on \n",
    "social media text. Here, SentimentIntensityAnalyzer() is an object and polarity_scores is a method which will  give us\n",
    "scores of the following categories:\n",
    "\n",
    "- Positive\n",
    "- Negative\n",
    "- Neutral\n",
    "- Compound\n",
    "   \n",
    "The compound score is the sum of positive, negative & neutral scores which is then normalized between \n",
    "-1(most extreme negative) and +1 (most extreme positive). The more Compound score closer to +1, \n",
    "the higher the positivity of the text. For our Analyser, we will consider compound score of >=0.5 as positive, \n",
    "and compund score of <0 as negative."
   ]
  },
  {
   "cell_type": "code",
   "execution_count": 14,
   "metadata": {},
   "outputs": [
    {
     "data": {
      "text/html": [
       "<div>\n",
       "<style scoped>\n",
       "    .dataframe tbody tr th:only-of-type {\n",
       "        vertical-align: middle;\n",
       "    }\n",
       "\n",
       "    .dataframe tbody tr th {\n",
       "        vertical-align: top;\n",
       "    }\n",
       "\n",
       "    .dataframe thead th {\n",
       "        text-align: right;\n",
       "    }\n",
       "</style>\n",
       "<table border=\"1\" class=\"dataframe\">\n",
       "  <thead>\n",
       "    <tr style=\"text-align: right;\">\n",
       "      <th></th>\n",
       "      <th>reviews</th>\n",
       "      <th>cleaned_reviews</th>\n",
       "      <th>POS_tagged_reviews</th>\n",
       "      <th>lemmatized_reviews</th>\n",
       "      <th>VADER_compound_score</th>\n",
       "      <th>Sentiment</th>\n",
       "    </tr>\n",
       "  </thead>\n",
       "  <tbody>\n",
       "    <tr>\n",
       "      <th>0</th>\n",
       "      <td>LHR - SFO, LAS - LGW August 2023 in Club Wor...</td>\n",
       "      <td>lhr  sfo las  lgw august 2023 in club world ...</td>\n",
       "      <td>[(lhr, n), (sfo, n), (las, n), (lgw, n), (augu...</td>\n",
       "      <td>lhr sfo la lgw august 2023 club world shame ...</td>\n",
       "      <td>0.9382</td>\n",
       "      <td>Positive</td>\n",
       "    </tr>\n",
       "    <tr>\n",
       "      <th>1</th>\n",
       "      <td>I flew from Malaga via LHR to Boston on the...</td>\n",
       "      <td>i flew from malaga via lhr to boston on the...</td>\n",
       "      <td>[(flew, v), (malaga, n), (via, None), (lhr, n)...</td>\n",
       "      <td>fly malaga via lhr boston 4th may 2024 arriv...</td>\n",
       "      <td>-0.7184</td>\n",
       "      <td>Negative</td>\n",
       "    </tr>\n",
       "    <tr>\n",
       "      <th>2</th>\n",
       "      <td>Milan to Miami return via London. Worst busi...</td>\n",
       "      <td>milan to miami return via london worst busin...</td>\n",
       "      <td>[(milan, n), (miami, v), (return, n), (via, No...</td>\n",
       "      <td>milan miami return via london bad business c...</td>\n",
       "      <td>-0.9036</td>\n",
       "      <td>Negative</td>\n",
       "    </tr>\n",
       "    <tr>\n",
       "      <th>3</th>\n",
       "      <td>BA created a new low-cost subsidiary in BA E...</td>\n",
       "      <td>ba created a new lowcost subsidiary in ba eu...</td>\n",
       "      <td>[(ba, n), (created, v), (new, a), (lowcost, n)...</td>\n",
       "      <td>ba create new lowcost subsidiary ba euroflye...</td>\n",
       "      <td>0.9874</td>\n",
       "      <td>Positive</td>\n",
       "    </tr>\n",
       "    <tr>\n",
       "      <th>4</th>\n",
       "      <td>I flew with British Airways from Heathrow t...</td>\n",
       "      <td>i flew with british airways from heathrow t...</td>\n",
       "      <td>[(flew, v), (british, a), (airways, n), (heath...</td>\n",
       "      <td>fly british airway heathrow hannover althoug...</td>\n",
       "      <td>-0.8992</td>\n",
       "      <td>Negative</td>\n",
       "    </tr>\n",
       "  </tbody>\n",
       "</table>\n",
       "</div>"
      ],
      "text/plain": [
       "                                             reviews  \\\n",
       "0    LHR - SFO, LAS - LGW August 2023 in Club Wor...   \n",
       "1     I flew from Malaga via LHR to Boston on the...   \n",
       "2    Milan to Miami return via London. Worst busi...   \n",
       "3    BA created a new low-cost subsidiary in BA E...   \n",
       "4     I flew with British Airways from Heathrow t...   \n",
       "\n",
       "                                     cleaned_reviews  \\\n",
       "0    lhr  sfo las  lgw august 2023 in club world ...   \n",
       "1     i flew from malaga via lhr to boston on the...   \n",
       "2    milan to miami return via london worst busin...   \n",
       "3    ba created a new lowcost subsidiary in ba eu...   \n",
       "4     i flew with british airways from heathrow t...   \n",
       "\n",
       "                                  POS_tagged_reviews  \\\n",
       "0  [(lhr, n), (sfo, n), (las, n), (lgw, n), (augu...   \n",
       "1  [(flew, v), (malaga, n), (via, None), (lhr, n)...   \n",
       "2  [(milan, n), (miami, v), (return, n), (via, No...   \n",
       "3  [(ba, n), (created, v), (new, a), (lowcost, n)...   \n",
       "4  [(flew, v), (british, a), (airways, n), (heath...   \n",
       "\n",
       "                                  lemmatized_reviews  VADER_compound_score  \\\n",
       "0    lhr sfo la lgw august 2023 club world shame ...                0.9382   \n",
       "1    fly malaga via lhr boston 4th may 2024 arriv...               -0.7184   \n",
       "2    milan miami return via london bad business c...               -0.9036   \n",
       "3    ba create new lowcost subsidiary ba euroflye...                0.9874   \n",
       "4    fly british airway heathrow hannover althoug...               -0.8992   \n",
       "\n",
       "  Sentiment  \n",
       "0  Positive  \n",
       "1  Negative  \n",
       "2  Negative  \n",
       "3  Positive  \n",
       "4  Negative  "
      ]
     },
     "execution_count": 14,
     "metadata": {},
     "output_type": "execute_result"
    }
   ],
   "source": [
    "from nltk.sentiment.vader import SentimentIntensityAnalyzer\n",
    "analyzer = SentimentIntensityAnalyzer()\n",
    "\n",
    "def vader_analysis(sentiment_text):\n",
    "    score = analyzer.polarity_scores(sentiment_text)\n",
    "    return score[\"compound\"]\n",
    "\n",
    "df[\"VADER_compound_score\"] = df[\"lemmatized_reviews\"].apply(vader_analysis)\n",
    "\n",
    "# function to analyse\n",
    "def sentiment_classifier(compound_score):\n",
    "    if compound_score >= 0.5:\n",
    "        return \"Positive\"\n",
    "    elif compound_score < 0 :\n",
    "        return \"Negative\"\n",
    "    else:\n",
    "        return \"Neutral\"\n",
    "\n",
    "df[\"Sentiment\"] = df[\"VADER_compound_score\"].apply(sentiment_classifier)\n",
    "df.head()"
   ]
  },
  {
   "cell_type": "code",
   "execution_count": 15,
   "metadata": {},
   "outputs": [
    {
     "data": {
      "text/plain": [
       "Positive    467\n",
       "Negative    428\n",
       "Neutral     105\n",
       "Name: Sentiment, dtype: int64"
      ]
     },
     "execution_count": 15,
     "metadata": {},
     "output_type": "execute_result"
    }
   ],
   "source": [
    "sentiment_counts = df[\"Sentiment\"].value_counts()\n",
    "sentiment_counts"
   ]
  },
  {
   "cell_type": "code",
   "execution_count": 16,
   "metadata": {},
   "outputs": [],
   "source": [
    "df.to_csv(\"data/BA_reviews_analysed.csv\")"
   ]
  },
  {
   "cell_type": "markdown",
   "metadata": {},
   "source": [
    "## Data Vizualization"
   ]
  },
  {
   "cell_type": "code",
   "execution_count": 19,
   "metadata": {},
   "outputs": [
    {
     "name": "stdout",
     "output_type": "stream",
     "text": [
      "Defaulting to user installation because normal site-packages is not writeable\n",
      "Collecting wordcloud\n",
      "  Downloading wordcloud-1.9.3-cp39-cp39-win_amd64.whl (300 kB)\n",
      "     ------------------------------------ 300.6/300.6 kB 226.5 kB/s eta 0:00:00\n",
      "Requirement already satisfied: numpy>=1.6.1 in c:\\programdata\\anaconda3\\lib\\site-packages (from wordcloud) (1.21.5)\n",
      "Requirement already satisfied: matplotlib in c:\\programdata\\anaconda3\\lib\\site-packages (from wordcloud) (3.5.2)\n",
      "Requirement already satisfied: pillow in c:\\programdata\\anaconda3\\lib\\site-packages (from wordcloud) (9.2.0)\n",
      "Requirement already satisfied: kiwisolver>=1.0.1 in c:\\programdata\\anaconda3\\lib\\site-packages (from matplotlib->wordcloud) (1.4.2)\n",
      "Requirement already satisfied: cycler>=0.10 in c:\\programdata\\anaconda3\\lib\\site-packages (from matplotlib->wordcloud) (0.11.0)\n",
      "Requirement already satisfied: packaging>=20.0 in c:\\programdata\\anaconda3\\lib\\site-packages (from matplotlib->wordcloud) (21.3)\n",
      "Requirement already satisfied: fonttools>=4.22.0 in c:\\programdata\\anaconda3\\lib\\site-packages (from matplotlib->wordcloud) (4.25.0)\n",
      "Requirement already satisfied: pyparsing>=2.2.1 in c:\\programdata\\anaconda3\\lib\\site-packages (from matplotlib->wordcloud) (3.0.9)\n",
      "Requirement already satisfied: python-dateutil>=2.7 in c:\\programdata\\anaconda3\\lib\\site-packages (from matplotlib->wordcloud) (2.8.2)\n",
      "Requirement already satisfied: six>=1.5 in c:\\programdata\\anaconda3\\lib\\site-packages (from python-dateutil>=2.7->matplotlib->wordcloud) (1.16.0)\n",
      "Installing collected packages: wordcloud\n",
      "Successfully installed wordcloud-1.9.3\n"
     ]
    },
    {
     "name": "stderr",
     "output_type": "stream",
     "text": [
      "  WARNING: The script wordcloud_cli.exe is installed in 'C:\\Users\\USER\\AppData\\Roaming\\Python\\Python39\\Scripts' which is not on PATH.\n",
      "  Consider adding this directory to PATH or, if you prefer to suppress this warning, use --no-warn-script-location.\n"
     ]
    }
   ],
   "source": [
    "!pip install wordcloud"
   ]
  },
  {
   "cell_type": "code",
   "execution_count": 17,
   "metadata": {},
   "outputs": [
    {
     "data": {
      "image/png": "[encoded data removed]",
      "text/plain": [
       "<Figure size 640x480 with 1 Axes>"
      ]
     },
     "metadata": {},
     "output_type": "display_data"
    }
   ],
   "source": [
    "import matplotlib.pyplot as plt \n",
    "import seaborn as sns\n",
    "  \n",
    "# Declaring data. \n",
    "data = sentiment_counts.values\n",
    "  \n",
    "# Define Seaborn color palette to use. \n",
    "palette_color = sns.color_palette() \n",
    "  \n",
    "# Plotting data on chart. \n",
    "plt.pie(data, labels=sentiment_counts.index, colors=palette_color, explode = (0, 0, 0.15), autopct=\"%.1f%%\") \n",
    "  \n",
    "# Displaying chart. \n",
    "plt.show() "
   ]
  },
  {
   "cell_type": "code",
   "execution_count": 20,
   "metadata": {},
   "outputs": [
    {
     "data": {
      "image/png": "[encoded data removed]",
      "text/plain": [
       "<Figure size 1000x1000 with 1 Axes>"
      ]
     },
     "metadata": {},
     "output_type": "display_data"
    }
   ],
   "source": [
    "from wordcloud import WordCloud\n",
    "\n",
    "def vizualize_wordcloud(data):\n",
    "    wordcloud = WordCloud(background_color=\"white\", max_words=200, max_font_size=40, scale=4, relative_scaling=0.9, random_state=7)\n",
    "    wordcloud = wordcloud.generate(str(data))\n",
    "\n",
    "    fig = plt.figure(1, figsize=(10, 10))\n",
    "    plt.axis(\"off\")\n",
    "\n",
    "    plt.imshow(wordcloud)\n",
    "    plt.show()\n",
    "\n",
    "vizualize_wordcloud(df[\"lemmatized_reviews\"])"
   ]
  },
  {
   "cell_type": "code",
   "execution_count": null,
   "metadata": {},
   "outputs": [],
   "source": []
  }
 ],
 "metadata": {
  "kernelspec": {
   "display_name": "Python 3 (ipykernel)",
   "language": "python",
   "name": "python3"
  },
  "language_info": {
   "codemirror_mode": {
    "name": "ipython",
    "version": 3
   },
   "file_extension": ".py",
   "mimetype": "text/x-python",
   "name": "python",
   "nbconvert_exporter": "python",
   "pygments_lexer": "ipython3",
   "version": "3.9.13"
  },
  "vscode": {
   "interpreter": {
    "hash": "4f7924c4c56b083e0e50eadfe7ef592a7a8ef70df33a0047f82280e6be1afe15"
   }
  }
 },
 "nbformat": 4,
 "nbformat_minor": 2
}
